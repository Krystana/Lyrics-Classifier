{
 "cells": [
  {
   "cell_type": "markdown",
   "metadata": {},
   "source": [
    "### A random forest model to predict the artist (Modest Mouse or Violent Femmes) by a snippet of lyrics:"
   ]
  },
  {
   "cell_type": "code",
   "execution_count": 4,
   "metadata": {},
   "outputs": [],
   "source": [
    "# import libraries:\n",
    "import requests\n",
    "import re\n",
    "from bs4 import BeautifulSoup\n",
    "import pandas as pd\n",
    "import time\n",
    "import glob\n",
    "import os\n",
    "import seaborn as sns\n",
    "import numpy as np\n",
    "\n",
    "from sklearn.model_selection import train_test_split, cross_val_score\n",
    "from sklearn.ensemble import RandomForestClassifier\n",
    "from sklearn.feature_extraction.text import TfidfVectorizer\n",
    "from sklearn.pipeline import make_pipeline\n",
    "from sklearn.pipeline import Pipeline\n",
    "from sklearn.preprocessing import FunctionTransformer\n",
    "from sklearn.metrics import accuracy_score, classification_report, confusion_matrix\n",
    "from sklearn.linear_model import LogisticRegression\n",
    "from sklearn.model_selection import RandomizedSearchCV"
   ]
  },
  {
   "cell_type": "code",
   "execution_count": 5,
   "metadata": {},
   "outputs": [],
   "source": [
    "# get linkslist from URL, save as html to disk and return as text_file: \n",
    "\n",
    "def get_linklist__to_disk(URL:str, html_filename:str):\n",
    "    \n",
    "    \"\"\"scrape linklist from url, \n",
    "       save html.file to disk, returns textfile of html\"\"\"\n",
    "    \n",
    "    response= requests.get(URL)\n",
    "    print(response.status_code)\n",
    "    html_file = response.text\n",
    "    with open(f'{html_filename}.html', 'w') as file:\n",
    "        file.write(html_file)\n",
    "    return html_file "
   ]
  },
  {
   "cell_type": "code",
   "execution_count": 6,
   "metadata": {},
   "outputs": [
    {
     "name": "stdout",
     "output_type": "stream",
     "text": [
      "200\n"
     ]
    }
   ],
   "source": [
    "# get linklist for modest mouse, save to disk and return as text_file :\n",
    "\n",
    "modest_html = get_linklist__to_disk(\"https://www.lyrics.com/artist/Modest-Mouse/200044\", \"modest\")"
   ]
  },
  {
   "cell_type": "code",
   "execution_count": 7,
   "metadata": {},
   "outputs": [
    {
     "name": "stdout",
     "output_type": "stream",
     "text": [
      "200\n"
     ]
    }
   ],
   "source": [
    "# get linklist for violent femmes, save to disk and return as text_file :\n",
    "\n",
    "violent_html = get_linklist__to_disk(\"https://www.lyrics.com/artist/Violent-Femmes/5767\", \"violent\")"
   ]
  },
  {
   "cell_type": "markdown",
   "metadata": {},
   "source": [
    "#### extract songlinks  with regEx/BeautifulSoup, complete URL and check for duplicates: "
   ]
  },
  {
   "cell_type": "markdown",
   "metadata": {},
   "source": [
    "#### Violent femmes"
   ]
  },
  {
   "cell_type": "code",
   "execution_count": 8,
   "metadata": {},
   "outputs": [],
   "source": [
    "# RegEx pattern: \n",
    "pattern_vf = 'href=\"(\\/lyric.+?)\"' "
   ]
  },
  {
   "cell_type": "code",
   "execution_count": 9,
   "metadata": {},
   "outputs": [],
   "source": [
    "def linklist_url_complete(pattern, textfilename):\n",
    "    \n",
    "    \"\"\" returns list with complete URLs of songlinks\"\"\"\n",
    "    \n",
    "    songlist = re.findall(pattern, textfilename)\n",
    "    complete =[]\n",
    "    #complete links in list with missing URL part:\n",
    "    for link in songlist: \n",
    "        complete.append(\"https://www.lyrics.com\" + link)\n",
    "    return complete"
   ]
  },
  {
   "cell_type": "code",
   "execution_count": 10,
   "metadata": {},
   "outputs": [],
   "source": [
    "songs_vf = linklist_url_complete(pattern_vf, violent_html)"
   ]
  },
  {
   "cell_type": "code",
   "execution_count": 11,
   "metadata": {},
   "outputs": [],
   "source": [
    "# check for duplicate files:             \n",
    "def check_dupes(linklist):\n",
    "\n",
    "\n",
    "    s = set()\n",
    "    for item in linklist:\n",
    "        s.add(item)\n",
    "    if (len(linklist)-(len(s)) == 0):\n",
    "                         print(\"no duplicates\")\n",
    "    else:\n",
    "                         print(\"duplicates found\")\n",
    "   "
   ]
  },
  {
   "cell_type": "code",
   "execution_count": 12,
   "metadata": {},
   "outputs": [
    {
     "name": "stdout",
     "output_type": "stream",
     "text": [
      "no duplicates\n"
     ]
    }
   ],
   "source": [
    "check_dupes(songs_vf)"
   ]
  },
  {
   "cell_type": "markdown",
   "metadata": {},
   "source": [
    "#### Modest Mouse "
   ]
  },
  {
   "cell_type": "code",
   "execution_count": 13,
   "metadata": {},
   "outputs": [],
   "source": [
    "#create beautiful soup object:\n",
    "modest_soup = BeautifulSoup(modest_html, 'html.parser')"
   ]
  },
  {
   "cell_type": "code",
   "execution_count": 14,
   "metadata": {},
   "outputs": [],
   "source": [
    "# parser:\n",
    "parser = \"soup.find_all(attrs = {'class' : 'tdata-ext'})[0].find_all('tr')\""
   ]
  },
  {
   "cell_type": "code",
   "execution_count": 15,
   "metadata": {},
   "outputs": [],
   "source": [
    "# create list with complete song links (excluding album links) with beautiful soup:\n",
    "def linklist_complete_BS(parser:str):\n",
    "    \n",
    "    \"\"\" get complete URL for MM songs scraped at lyrics.com\"\"\"\n",
    "    songs = []    \n",
    "    for element in parser:      \n",
    "   \n",
    "        try:\n",
    "            songs.append(element.a.get('href'))\n",
    "       \n",
    "        except AttributeError:\n",
    "            pass\n",
    "    \n",
    "    complete =[]\n",
    "    for link in songs: \n",
    "        complete.append(\"https://www.lyrics.com\" + link)\n",
    "    return complete"
   ]
  },
  {
   "cell_type": "code",
   "execution_count": 16,
   "metadata": {},
   "outputs": [],
   "source": [
    "songs_mm = linklist_complete_BS(parser)"
   ]
  },
  {
   "cell_type": "code",
   "execution_count": 17,
   "metadata": {},
   "outputs": [
    {
     "name": "stdout",
     "output_type": "stream",
     "text": [
      "no duplicates\n"
     ]
    }
   ],
   "source": [
    "# check for duplicate files    \n",
    "check_dupes(songs_mm)"
   ]
  },
  {
   "cell_type": "markdown",
   "metadata": {},
   "source": [
    "#### get html files for each song"
   ]
  },
  {
   "cell_type": "code",
   "execution_count": 18,
   "metadata": {},
   "outputs": [],
   "source": [
    "# write function to request all html files in songlink-list and download as html files to disk: \n",
    "def get_songs_html(linklist, artist:str, artistinitials:str):\n",
    "    \"\"\"scrapes and writes html file for each songlyric to disk\"\"\"\n",
    "\n",
    "    num = 1\n",
    "    for link in linklist:\n",
    "    \n",
    "        response = requests.get(link)\n",
    "        song_html = response.text\n",
    "        with open(f'/Users/krystanafoh/lyrics/{artist}/{num}_{artistinitials}_test.html', 'w') as file:\n",
    "            file.write(song_html)\n",
    "        num = num + 1\n",
    "        time.sleep(0.3)"
   ]
  },
  {
   "cell_type": "code",
   "execution_count": 19,
   "metadata": {
    "scrolled": true
   },
   "outputs": [],
   "source": [
    "# violent femmes:\n",
    "#get_songs_html(songs_vf, \"violentfemmes\", \"vf\")"
   ]
  },
  {
   "cell_type": "code",
   "execution_count": 20,
   "metadata": {},
   "outputs": [],
   "source": [
    "# modest mouse:\n",
    "#get_songs_html(songs_mm, \"modestmouse\", \"mm\")"
   ]
  },
  {
   "cell_type": "markdown",
   "metadata": {},
   "source": [
    "####  extract songlyrics of html files and safe each to textfile: "
   ]
  },
  {
   "cell_type": "code",
   "execution_count": 21,
   "metadata": {},
   "outputs": [],
   "source": [
    "def lyrics_to_text(linklist, artist:str, artistinitials:str):\n",
    "    \"\"\"extract and safe lyrics of each song to textfile\"\"\"\n",
    "    \n",
    "    num = 1\n",
    "    for i in range(len(linklist)):\n",
    "        \n",
    "        filename = (f'/Users/krystanafoh/lyrics/{artist}/{num}_{artistinitials}')\n",
    "# open html file\n",
    "        html = open(f'{filename}.html')\n",
    "# create beautiful soup object\n",
    "        soup = BeautifulSoup(html, 'html.parser')\n",
    "# get song text\n",
    "        text = soup.find_all('pre', attrs = {'class' : 'lyric-body'})[0].get_text()\n",
    "# safe song text to text file: \n",
    "        with open(f'{filename}.text', 'w') as file:\n",
    "            file.write(text)\n",
    "        num = num + 1"
   ]
  },
  {
   "cell_type": "code",
   "execution_count": 22,
   "metadata": {},
   "outputs": [],
   "source": [
    "# modest mouse:\n",
    "#lyrics_to_text(songs_mm, \"modestmouse\", \"mm\")"
   ]
  },
  {
   "cell_type": "code",
   "execution_count": 23,
   "metadata": {},
   "outputs": [],
   "source": [
    "# violent femmes: \n",
    "#lyrics_to_text(songs_vf, \"violentfemmes\", \"vf\")"
   ]
  },
  {
   "cell_type": "markdown",
   "metadata": {},
   "source": [
    "#### create lists of strings for each band"
   ]
  },
  {
   "cell_type": "code",
   "execution_count": 24,
   "metadata": {},
   "outputs": [],
   "source": [
    "def lyrics_to_list(path:str):\n",
    "    \"\"\"returns a list of lyricstrings\"\"\"\n",
    "\n",
    "    textfile = glob.glob(os.path.join(path, '*.text'), recursive=False)\n",
    "\n",
    "    lyrics = []\n",
    "   \n",
    "    for file_path in textfile:\n",
    "        with open(file_path) as f_input:\n",
    "            lyrics.append(f_input.read())\n",
    "\n",
    "    return lyrics"
   ]
  },
  {
   "cell_type": "code",
   "execution_count": 25,
   "metadata": {},
   "outputs": [
    {
     "data": {
      "text/plain": [
       "402"
      ]
     },
     "execution_count": 25,
     "metadata": {},
     "output_type": "execute_result"
    }
   ],
   "source": [
    "# create list of Modest Mouse songtexts: \n",
    "path = '/Users/krystanafoh/lyrics/modestmouse/'\n",
    "list_mm = lyrics_to_list(path)\n",
    "len(list_mm)"
   ]
  },
  {
   "cell_type": "code",
   "execution_count": 26,
   "metadata": {},
   "outputs": [
    {
     "data": {
      "text/plain": [
       "386"
      ]
     },
     "execution_count": 26,
     "metadata": {},
     "output_type": "execute_result"
    }
   ],
   "source": [
    "# create list of Violent Femmes songtexts: \n",
    "path2 = '/Users/krystanafoh/lyrics/violentfemmes/'\n",
    "list_vf = lyrics_to_list(path2)\n",
    "len(list_vf)"
   ]
  },
  {
   "cell_type": "markdown",
   "metadata": {},
   "source": [
    "#### create corpus and do test-train-split"
   ]
  },
  {
   "cell_type": "code",
   "execution_count": 27,
   "metadata": {},
   "outputs": [],
   "source": [
    "CORPUS = list_mm + list_vf"
   ]
  },
  {
   "cell_type": "code",
   "execution_count": 28,
   "metadata": {
    "scrolled": true
   },
   "outputs": [
    {
     "data": {
      "text/plain": [
       "788"
      ]
     },
     "execution_count": 28,
     "metadata": {},
     "output_type": "execute_result"
    }
   ],
   "source": [
    "len(CORPUS)"
   ]
  },
  {
   "cell_type": "code",
   "execution_count": 60,
   "metadata": {},
   "outputs": [
    {
     "data": {
      "text/plain": [
       "386"
      ]
     },
     "execution_count": 60,
     "metadata": {},
     "output_type": "execute_result"
    }
   ],
   "source": [
    "labels = [\"Modest Mouse\"] * len(list_mm) + [\"Violent Femmes\"] * len(list_vf)"
   ]
  },
  {
   "cell_type": "code",
   "execution_count": 30,
   "metadata": {},
   "outputs": [],
   "source": [
    "X = CORPUS\n",
    "y = labels"
   ]
  },
  {
   "cell_type": "code",
   "execution_count": 31,
   "metadata": {},
   "outputs": [],
   "source": [
    "# train-test-split: \n",
    "X_test, X_train, y_test, y_train = train_test_split(X, y, stratify=y, random_state=42)"
   ]
  },
  {
   "cell_type": "markdown",
   "metadata": {},
   "source": [
    "####  Feature Engineering: "
   ]
  },
  {
   "cell_type": "code",
   "execution_count": 32,
   "metadata": {},
   "outputs": [],
   "source": [
    "def clean_text(text):\n",
    "    \"\"\"cleans up text with RegEx, replacing \"n'\" with \"ng\", \n",
    "    removing punctuation except \"'\", replaceing \"\\n\" with whitespace, lowercaseing, \n",
    "    removing double whitespace\"\"\"\n",
    "    \n",
    "    # replace \"n'\" with ng:\n",
    "    text = re.sub(\"\\w(n')\\s\",\"\", text)   \n",
    "        \n",
    "        \n",
    "    #remove punctuation:\n",
    "    text = re.sub(\"[^\\w\\s']\",\"\",text)\n",
    "    \n",
    "    # replace \"\\n\" by whitespace : \n",
    "    text = re.sub(\"\\\\n\", \" \", text)\n",
    "    \n",
    "   \n",
    "    # lowercase    \n",
    "    text = text.lower()\n",
    "    \n",
    "    #removing duble whitespaces:\n",
    "    text = re.sub(\"\\s+\",\" \", text)\n",
    "    \n",
    "    return text"
   ]
  },
  {
   "cell_type": "code",
   "execution_count": 33,
   "metadata": {},
   "outputs": [],
   "source": [
    "def clean_list(X_split):\n",
    "    \"\"\"applies clean_text function to every item in list (of songtexts)\"\"\"\n",
    "    \n",
    "    clean_list = []\n",
    "    for song in X_split:\n",
    "        clean_list.append(clean_text(song))\n",
    "    return clean_list"
   ]
  },
  {
   "cell_type": "markdown",
   "metadata": {},
   "source": [
    "#### create pipeline"
   ]
  },
  {
   "cell_type": "code",
   "execution_count": 34,
   "metadata": {},
   "outputs": [],
   "source": [
    "clean_rf_pipe = Pipeline([\n",
    "    (\"cleaning_text\", FunctionTransformer(clean_list)), \n",
    "    (\"vectorize\", TfidfVectorizer(ngram_range=(1,1), smooth_idf=True, stop_words='english')),\n",
    "    (\"model\",RandomForestClassifier(n_estimators= 800, min_samples_split=2, min_samples_leaf=2, max_depth=50, max_features='sqrt', bootstrap=False, random_state=42))\n",
    "])"
   ]
  },
  {
   "cell_type": "markdown",
   "metadata": {},
   "source": [
    "#### Random Grid Search: "
   ]
  },
  {
   "cell_type": "code",
   "execution_count": 35,
   "metadata": {},
   "outputs": [],
   "source": [
    "## Number of trees in random forest:\n",
    "#n_estimators = [int(x) for x in np.linspace(start = 200, stop = 2000, num = 10)]\n",
    "\n",
    "## Number of features to consider at every split:\n",
    "#max_features = ['auto', 'sqrt']\n",
    "\n",
    "## Maximum number of levels in tree:\n",
    "#max_depth = [int(x) for x in np.linspace(10, 110, num = 11)]\n",
    "#max_depth.append(None)\n",
    "\n",
    "## Minimum number of samples required to split a node:\n",
    "##min_samples_split = [2, 5, 10]\n",
    "\n",
    "# Minimum number of samples required at each leaf node:\n",
    "#min_samples_leaf = [1, 2, 4]\n",
    "\n",
    "## Method of selecting samples for training each tree:\n",
    "#bootstrap = [True, False]\n",
    "\n",
    "## Create the random grid:\n",
    "#random_grid = {'n_estimators': n_estimators,\n",
    "#               'max_features': max_features,\n",
    " #              'max_depth': max_depth,\n",
    "  #             'min_samples_split': min_samples_split,\n",
    "   #            'min_samples_leaf': min_samples_leaf,\n",
    "    #           'bootstrap': bootstrap}\n",
    "#print(random_grid)\n",
    "\n",
    "#{'bootstrap': [True, False],\n",
    "# 'max_depth': [10, 20, 30, 40, 50, 60, 70, 80, 90, 100, None],\n",
    "# 'max_features': ['auto', 'sqrt'],\n",
    "# 'min_samples_leaf': [1, 2, 4],\n",
    "# 'min_samples_split': [2, 5, 10],\n",
    "# 'n_estimators': [200, 400, 600, 800, 1000, 1200, 1400, 1600, 1800, 2000]}\n"
   ]
  },
  {
   "cell_type": "code",
   "execution_count": 36,
   "metadata": {
    "scrolled": true
   },
   "outputs": [],
   "source": [
    "# Use the random grid to search for best hyperparameters:\n",
    "\n",
    "# First create the base model to tune:\n",
    "##rf = RandomForestClassifier()\n",
    "\n",
    "# Random search of parameters, using 3 fold cross validation, \n",
    "# search across 100 different combinations, and use all available cores:\n",
    "##rf_random = RandomizedSearchCV(estimator = rf, param_distributions = random_grid, n_iter = 100, cv = 3, verbose=2, random_state=42, n_jobs = -1)\n",
    "\n",
    "# Fit the random search model:\n",
    "##rf_random.fit(X_train, y_train)"
   ]
  },
  {
   "cell_type": "code",
   "execution_count": 37,
   "metadata": {},
   "outputs": [],
   "source": [
    "#rf_random.best_params_"
   ]
  },
  {
   "cell_type": "markdown",
   "metadata": {},
   "source": [
    "####  X train fit and evaluation of model: "
   ]
  },
  {
   "cell_type": "code",
   "execution_count": 38,
   "metadata": {
    "scrolled": true
   },
   "outputs": [
    {
     "data": {
      "text/plain": [
       "Pipeline(steps=[('cleaning_text',\n",
       "                 FunctionTransformer(func=<function clean_list at 0x124746940>)),\n",
       "                ('vectorize', TfidfVectorizer(stop_words='english')),\n",
       "                ('model',\n",
       "                 RandomForestClassifier(bootstrap=False, max_depth=50,\n",
       "                                        max_features='sqrt', min_samples_leaf=2,\n",
       "                                        n_estimators=800, random_state=42))])"
      ]
     },
     "execution_count": 38,
     "metadata": {},
     "output_type": "execute_result"
    }
   ],
   "source": [
    "# fit pipeline on X_train: \n",
    "clean_rf_pipe.fit(X_train, y_train)"
   ]
  },
  {
   "cell_type": "code",
   "execution_count": 39,
   "metadata": {},
   "outputs": [],
   "source": [
    "# make predictions on X_train: \n",
    "y_pred_train = clean_rf_pipe.predict(X_train)"
   ]
  },
  {
   "cell_type": "markdown",
   "metadata": {},
   "source": [
    "#### evaluation:"
   ]
  },
  {
   "cell_type": "code",
   "execution_count": 40,
   "metadata": {
    "scrolled": true
   },
   "outputs": [
    {
     "name": "stdout",
     "output_type": "stream",
     "text": [
      "                precision    recall  f1-score   support\n",
      "\n",
      "  Modest Mouse       1.00      1.00      1.00       101\n",
      "Violent Femmes       1.00      1.00      1.00        96\n",
      "\n",
      "      accuracy                           1.00       197\n",
      "     macro avg       1.00      1.00      1.00       197\n",
      "  weighted avg       1.00      1.00      1.00       197\n",
      "\n"
     ]
    }
   ],
   "source": [
    "#classification report: \n",
    "print(classification_report(y_train,y_pred_train))"
   ]
  },
  {
   "cell_type": "code",
   "execution_count": 43,
   "metadata": {},
   "outputs": [
    {
     "data": {
      "text/plain": [
       "1.0"
      ]
     },
     "execution_count": 43,
     "metadata": {},
     "output_type": "execute_result"
    }
   ],
   "source": [
    "# training score: \n",
    "clean_rf_pipe.score(X_train, y_train) "
   ]
  },
  {
   "cell_type": "code",
   "execution_count": 44,
   "metadata": {},
   "outputs": [
    {
     "data": {
      "text/plain": [
       "0.8366666666666667"
      ]
     },
     "execution_count": 44,
     "metadata": {},
     "output_type": "execute_result"
    }
   ],
   "source": [
    "# cross-validation: \n",
    "cross_val_score(clean_rf_pipe, X_train, y_train, cv=20).mean()"
   ]
  },
  {
   "cell_type": "markdown",
   "metadata": {},
   "source": [
    "####  predictions on X_test and further evaluations: "
   ]
  },
  {
   "cell_type": "code",
   "execution_count": 45,
   "metadata": {},
   "outputs": [],
   "source": [
    "# predict on  X_test: \n",
    "y_pred_test = clean_rf_pipe.predict(X_test)"
   ]
  },
  {
   "cell_type": "code",
   "execution_count": 46,
   "metadata": {
    "scrolled": true
   },
   "outputs": [
    {
     "name": "stdout",
     "output_type": "stream",
     "text": [
      "                precision    recall  f1-score   support\n",
      "\n",
      "  Modest Mouse       0.86      0.94      0.90       301\n",
      "Violent Femmes       0.93      0.84      0.88       290\n",
      "\n",
      "      accuracy                           0.89       591\n",
      "     macro avg       0.90      0.89      0.89       591\n",
      "  weighted avg       0.90      0.89      0.89       591\n",
      "\n"
     ]
    }
   ],
   "source": [
    "print(classification_report(y_test,y_pred_test))"
   ]
  },
  {
   "cell_type": "code",
   "execution_count": 47,
   "metadata": {},
   "outputs": [
    {
     "data": {
      "text/plain": [
       "0.8917089678510999"
      ]
     },
     "execution_count": 47,
     "metadata": {},
     "output_type": "execute_result"
    }
   ],
   "source": [
    "# test score: \n",
    "clean_rf_pipe.score(X_test, y_test)"
   ]
  },
  {
   "cell_type": "code",
   "execution_count": 48,
   "metadata": {},
   "outputs": [
    {
     "data": {
      "text/plain": [
       "0.8366666666666667"
      ]
     },
     "execution_count": 48,
     "metadata": {},
     "output_type": "execute_result"
    }
   ],
   "source": [
    "# cross-validation: \n",
    "cross_val_score(clean_rf_pipe, X_train, y_train, cv=20).mean()"
   ]
  },
  {
   "cell_type": "code",
   "execution_count": 49,
   "metadata": {},
   "outputs": [
    {
     "data": {
      "text/plain": [
       "<AxesSubplot:>"
      ]
     },
     "execution_count": 49,
     "metadata": {},
     "output_type": "execute_result"
    },
    {
     "data": {
      "image/png": "[encoded data removed]",
      "text/plain": [
       "<Figure size 432x288 with 2 Axes>"
      ]
     },
     "metadata": {
      "needs_background": "light"
     },
     "output_type": "display_data"
    }
   ],
   "source": [
    "# confusion matrix:\n",
    "sns.heatmap(confusion_matrix(y_test, y_pred_test), annot=True, fmt=\".0f\")"
   ]
  },
  {
   "cell_type": "markdown",
   "metadata": {},
   "source": [
    "#### use pipeline on guessed band lyrics: "
   ]
  },
  {
   "cell_type": "code",
   "execution_count": 50,
   "metadata": {},
   "outputs": [
    {
     "data": {
      "text/plain": [
       "array([[0.62423776, 0.37576224]])"
      ]
     },
     "execution_count": 50,
     "metadata": {},
     "output_type": "execute_result"
    }
   ],
   "source": [
    "clean_rf_pipe.predict_proba([\"a long ride for someone\"]) "
   ]
  },
  {
   "cell_type": "code",
   "execution_count": 51,
   "metadata": {},
   "outputs": [
    {
     "data": {
      "text/plain": [
       "array([[0.66326048, 0.33673952]])"
      ]
     },
     "execution_count": 51,
     "metadata": {},
     "output_type": "execute_result"
    }
   ],
   "source": [
    "clean_rf_pipe.predict_proba([\"my car\"])"
   ]
  },
  {
   "cell_type": "code",
   "execution_count": 52,
   "metadata": {},
   "outputs": [
    {
     "data": {
      "text/plain": [
       "array([[0.59141675, 0.40858325]])"
      ]
     },
     "execution_count": 52,
     "metadata": {},
     "output_type": "execute_result"
    }
   ],
   "source": [
    "clean_rf_pipe.predict_proba([\"float on float on float on\"])"
   ]
  },
  {
   "cell_type": "code",
   "execution_count": 53,
   "metadata": {},
   "outputs": [
    {
     "data": {
      "text/plain": [
       "array([[0.53033066, 0.46966934]])"
      ]
     },
     "execution_count": 53,
     "metadata": {},
     "output_type": "execute_result"
    }
   ],
   "source": [
    "clean_rf_pipe.predict_proba([\"nightmares\"])"
   ]
  },
  {
   "cell_type": "code",
   "execution_count": 54,
   "metadata": {},
   "outputs": [
    {
     "data": {
      "text/plain": [
       "array([[0.52902408, 0.47097592]])"
      ]
     },
     "execution_count": 54,
     "metadata": {},
     "output_type": "execute_result"
    }
   ],
   "source": [
    "clean_rf_pipe.predict_proba([\"getting together with you\"])"
   ]
  },
  {
   "cell_type": "code",
   "execution_count": 55,
   "metadata": {},
   "outputs": [
    {
     "name": "stdout",
     "output_type": "stream",
     "text": [
      "[[0.53699813 0.46300187]]\n"
     ]
    }
   ],
   "source": [
    "print(clean_rf_pipe.predict_proba([\"jaksfnaksljdbflasdkjf\"]))"
   ]
  },
  {
   "cell_type": "code",
   "execution_count": 56,
   "metadata": {},
   "outputs": [
    {
     "name": "stdout",
     "output_type": "stream",
     "text": [
      "[[0.59141675 0.40858325]]\n"
     ]
    }
   ],
   "source": [
    "print(clean_rf_pipe.predict_proba([\"float on float on float on float on float on float on float on float on float on\"]))"
   ]
  },
  {
   "cell_type": "code",
   "execution_count": 57,
   "metadata": {},
   "outputs": [
    {
     "name": "stdout",
     "output_type": "stream",
     "text": [
      "[[0.504554 0.495446]]\n",
      "😡\n"
     ]
    }
   ],
   "source": [
    "print(clean_rf_pipe.predict_proba([\"like a blister in the sun\"]))\n",
    "print(\"\\N{pouting face}\")"
   ]
  },
  {
   "cell_type": "code",
   "execution_count": 58,
   "metadata": {},
   "outputs": [
    {
     "name": "stdout",
     "output_type": "stream",
     "text": [
      "[[0.51899321 0.48100679]]\n",
      "😡\n"
     ]
    }
   ],
   "source": [
    "print(clean_rf_pipe.predict_proba([\"blister blister blister\"]))\n",
    "print(\"\\N{pouting face}\")"
   ]
  }
 ],
 "metadata": {
  "kernelspec": {
   "display_name": "Python 3",
   "language": "python",
   "name": "python3"
  },
  "language_info": {
   "codemirror_mode": {
    "name": "ipython",
    "version": 3
   },
   "file_extension": ".py",
   "mimetype": "text/x-python",
   "name": "python",
   "nbconvert_exporter": "python",
   "pygments_lexer": "ipython3",
   "version": "3.8.5"
  }
 },
 "nbformat": 4,
 "nbformat_minor": 4
}
