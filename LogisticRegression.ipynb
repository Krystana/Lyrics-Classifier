{
 "cells": [
  {
   "cell_type": "markdown",
   "metadata": {},
   "source": [
    "### A logistic regression model to predict the artist (Modest Mouse or Violent Femmes) by a snippet of lyrics:"
   ]
  },
  {
   "cell_type": "code",
   "execution_count": 1,
   "metadata": {},
   "outputs": [],
   "source": [
    "# import libraries:\n",
    "import requests\n",
    "import re\n",
    "import pandas as pd\n",
    "import time\n",
    "import glob\n",
    "import os\n",
    "import seaborn as sns\n",
    "import numpy as np\n",
    "\n",
    "from bs4 import BeautifulSoup\n",
    "\n",
    "from sklearn.model_selection import train_test_split, cross_val_score\n",
    "from sklearn.ensemble import RandomForestClassifier\n",
    "from sklearn.feature_extraction.text import TfidfVectorizer\n",
    "from sklearn.pipeline import make_pipeline, Pipeline\n",
    "from sklearn.preprocessing import FunctionTransformer\n",
    "from sklearn.metrics import accuracy_score, classification_report, confusion_matrix\n",
    "from sklearn.linear_model import LogisticRegression"
   ]
  },
  {
   "cell_type": "markdown",
   "metadata": {},
   "source": [
    "#### scraping a list of songs for the artists:"
   ]
  },
  {
   "cell_type": "code",
   "execution_count": 2,
   "metadata": {},
   "outputs": [],
   "source": [
    "# get linkslist from URL, save as html to disk and return as text file: \n",
    "\n",
    "def get_linklist__to_disk(URL:str, html_filename:str):\n",
    "    \n",
    "    \"\"\"scrape linklist from url, \n",
    "       save html.file to disk, returns textfile of html\"\"\"\n",
    "    \n",
    "    response= requests.get(URL)\n",
    "    html_file = response.text\n",
    "    print(response.status_code)\n",
    "    \n",
    "    with open(f'{html_filename}.html', 'w') as file:\n",
    "        file.write(html_file)\n",
    "    return html_file "
   ]
  },
  {
   "cell_type": "code",
   "execution_count": 3,
   "metadata": {},
   "outputs": [
    {
     "name": "stdout",
     "output_type": "stream",
     "text": [
      "200\n"
     ]
    }
   ],
   "source": [
    "# get linklist for modest mouse, save to disk and return as text_file :\n",
    "\n",
    "modest_html = get_linklist__to_disk(\"https://www.lyrics.com/artist/Modest-Mouse/200044\", \"modest\")"
   ]
  },
  {
   "cell_type": "code",
   "execution_count": 4,
   "metadata": {},
   "outputs": [
    {
     "name": "stdout",
     "output_type": "stream",
     "text": [
      "200\n"
     ]
    }
   ],
   "source": [
    "# get linklist for violent femmes, save to disk and return as text_file :\n",
    "\n",
    "violent_html = get_linklist__to_disk(\"https://www.lyrics.com/artist/Violent-Femmes/5767\", \"violent\")"
   ]
  },
  {
   "cell_type": "markdown",
   "metadata": {},
   "source": [
    "#### extract songlinks  with regEx/BeautifulSoup, complete URL and check for duplicates: "
   ]
  },
  {
   "cell_type": "markdown",
   "metadata": {},
   "source": [
    "#### Violent femmes"
   ]
  },
  {
   "cell_type": "code",
   "execution_count": 5,
   "metadata": {},
   "outputs": [],
   "source": [
    "# RegEx pattern:\n",
    "pattern_vf = 'href=\"(\\/lyric.+?)\"' "
   ]
  },
  {
   "cell_type": "code",
   "execution_count": 6,
   "metadata": {},
   "outputs": [],
   "source": [
    "def linklist_url_complete(pattern, textfilename):\n",
    "    \n",
    "    \"\"\" returns list with complete URLs of songlinks,\n",
    "        textfilename can be output of get_linklist_to_disk\"\"\"\n",
    "    \n",
    "    songlist = re.findall(pattern, textfilename)\n",
    "    complete =[]\n",
    "    \n",
    "    # complete links in list with missing URL part:\n",
    "    for link in songlist: \n",
    "        complete.append(\"https://www.lyrics.com\" + link)\n",
    "    return complete"
   ]
  },
  {
   "cell_type": "code",
   "execution_count": 7,
   "metadata": {},
   "outputs": [],
   "source": [
    "songs_vf = linklist_url_complete(pattern_vf, violent_html)"
   ]
  },
  {
   "cell_type": "code",
   "execution_count": 8,
   "metadata": {},
   "outputs": [],
   "source": [
    "# check for duplicate files:                                                    \n",
    "def check_dupes(linklist):\n",
    "\n",
    "    s = set()\n",
    "    for item in linklist:\n",
    "        s.add(item)\n",
    "    if (len(linklist)-(len(s)) == 0):\n",
    "                         print(\"no duplicates\")\n",
    "    else:\n",
    "                         print(\"duplicates found\")\n",
    "   "
   ]
  },
  {
   "cell_type": "code",
   "execution_count": 9,
   "metadata": {},
   "outputs": [
    {
     "name": "stdout",
     "output_type": "stream",
     "text": [
      "no duplicates\n"
     ]
    }
   ],
   "source": [
    "check_dupes(songs_vf)"
   ]
  },
  {
   "cell_type": "markdown",
   "metadata": {},
   "source": [
    "#### Modest Mouse  - same procedure as above but using BeautifulSoup"
   ]
  },
  {
   "cell_type": "code",
   "execution_count": 10,
   "metadata": {},
   "outputs": [],
   "source": [
    "#create beautiful soup object:\n",
    "modest_soup = BeautifulSoup(modest_html, 'html.parser')"
   ]
  },
  {
   "cell_type": "code",
   "execution_count": 14,
   "metadata": {},
   "outputs": [],
   "source": [
    "# parser:\n",
    "parser = \"soup.find_all(attrs = {'class' : 'tdata-ext'})[0].find_all('tr')\""
   ]
  },
  {
   "cell_type": "code",
   "execution_count": 18,
   "metadata": {},
   "outputs": [],
   "source": [
    "# create list with complete song links (excluding album links) with beautiful soup:\n",
    "def linklist_complete_BS(parser:str):\n",
    "    \n",
    "    \"\"\" get complete URL for MM songs scraped at lyrics.com\"\"\"\n",
    "    songs = []    \n",
    "    for element in parser:      \n",
    "   \n",
    "        try:\n",
    "            songs.append(element.a.get('href'))\n",
    "       \n",
    "        except AttributeError:\n",
    "            pass\n",
    "    \n",
    "    complete =[]\n",
    "    for link in songs: \n",
    "        complete.append(\"https://www.lyrics.com\" + link)\n",
    "    return complete"
   ]
  },
  {
   "cell_type": "code",
   "execution_count": 19,
   "metadata": {},
   "outputs": [],
   "source": [
    "songs_mm = linklist_complete_BS(parser)"
   ]
  },
  {
   "cell_type": "code",
   "execution_count": 20,
   "metadata": {
    "scrolled": true
   },
   "outputs": [
    {
     "name": "stdout",
     "output_type": "stream",
     "text": [
      "no duplicates\n"
     ]
    }
   ],
   "source": [
    "# check for duplicate files    \n",
    "check_dupes(songs_mm)"
   ]
  },
  {
   "cell_type": "markdown",
   "metadata": {},
   "source": [
    "#### get html files for each song"
   ]
  },
  {
   "cell_type": "code",
   "execution_count": 21,
   "metadata": {},
   "outputs": [],
   "source": [
    "# write function to request all html files in songlink-list and download as html files to disk: \n",
    "def get_songs_html(linklist, artist:str, artistinitials:str):\n",
    "    \"\"\"scrapes and writes html file for each songlyric to disk\"\"\"\n",
    "\n",
    "    num = 1\n",
    "    for link in linklist:\n",
    "    \n",
    "        response = requests.get(link)\n",
    "        song_html = response.text\n",
    "        with open(f'/Users/krystanafoh/lyrics/{artist}/{num}_{artistinitials}_test.html', 'w') as file:\n",
    "            file.write(song_html)\n",
    "        num = num + 1\n",
    "        time.sleep(0.3)"
   ]
  },
  {
   "cell_type": "code",
   "execution_count": null,
   "metadata": {
    "scrolled": true
   },
   "outputs": [],
   "source": [
    "# violent femmes:\n",
    "#get_songs_html(songs_vf, \"violentfemmes\", \"vf\")"
   ]
  },
  {
   "cell_type": "code",
   "execution_count": null,
   "metadata": {},
   "outputs": [],
   "source": [
    "# modest mouse:\n",
    "#get_songs_html(songs_mm, \"modestmouse\", \"mm\")"
   ]
  },
  {
   "cell_type": "markdown",
   "metadata": {},
   "source": [
    "####  extract songlyrics of html files and safe each to textfile: "
   ]
  },
  {
   "cell_type": "code",
   "execution_count": 22,
   "metadata": {},
   "outputs": [],
   "source": [
    "def lyrics_to_text(linklist, artist:str, artistinitials:str):\n",
    "    \"\"\"extract and safe lyrics of each song to textfile\"\"\"\n",
    "    \n",
    "    num = 1\n",
    "    for i in range(len(linklist)):\n",
    "        \n",
    "        filename = (f'/Users/krystanafoh/lyrics/{artist}/{num}_{artistinitials}')\n",
    "# open html file\n",
    "        html = open(f'{filename}.html')\n",
    "# create beautiful soup object\n",
    "        soup = BeautifulSoup(html, 'html.parser')\n",
    "# get song text\n",
    "        text = soup.find_all('pre', attrs = {'class' : 'lyric-body'})[0].get_text()\n",
    "# safe song text to text file: \n",
    "        with open(f'{filename}.text', 'w') as file:\n",
    "            file.write(text)\n",
    "        num = num + 1"
   ]
  },
  {
   "cell_type": "code",
   "execution_count": null,
   "metadata": {},
   "outputs": [],
   "source": [
    "# modest mouse:\n",
    "#lyrics_to_text(songs_mm, \"modestmouse\", \"mm\")"
   ]
  },
  {
   "cell_type": "code",
   "execution_count": null,
   "metadata": {},
   "outputs": [],
   "source": [
    "# violent femmes: \n",
    "#lyrics_to_text(songs_vf, \"violentfemmes\", \"vf\")"
   ]
  },
  {
   "cell_type": "markdown",
   "metadata": {},
   "source": [
    "#### create lists of strings for each band"
   ]
  },
  {
   "cell_type": "code",
   "execution_count": 23,
   "metadata": {},
   "outputs": [],
   "source": [
    "def lyrics_to_list(path:str):\n",
    "    \"\"\"returns a list of lyricstrings\"\"\"\n",
    "\n",
    "    textfile = glob.glob(os.path.join(path, '*.text'), recursive=False)\n",
    "\n",
    "    lyrics = []\n",
    "   \n",
    "    for file_path in textfile:\n",
    "        with open(file_path) as f_input:\n",
    "            lyrics.append(f_input.read())\n",
    "\n",
    "    return lyrics"
   ]
  },
  {
   "cell_type": "code",
   "execution_count": 24,
   "metadata": {},
   "outputs": [
    {
     "data": {
      "text/plain": [
       "402"
      ]
     },
     "execution_count": 24,
     "metadata": {},
     "output_type": "execute_result"
    }
   ],
   "source": [
    "# create list of Modest Mouse songtexts: \n",
    "path = '/Users/krystanafoh/lyrics/modestmouse/'\n",
    "list_mm = lyrics_to_list(path)\n",
    "len(list_mm)"
   ]
  },
  {
   "cell_type": "code",
   "execution_count": 25,
   "metadata": {},
   "outputs": [
    {
     "data": {
      "text/plain": [
       "386"
      ]
     },
     "execution_count": 25,
     "metadata": {},
     "output_type": "execute_result"
    }
   ],
   "source": [
    "# create list of Violent Femmes songtexts: \n",
    "path2 = '/Users/krystanafoh/lyrics/violentfemmes/'\n",
    "list_vf = lyrics_to_list(path2)\n",
    "len(list_vf)"
   ]
  },
  {
   "cell_type": "markdown",
   "metadata": {},
   "source": [
    "#### create corpus and do test-train-split"
   ]
  },
  {
   "cell_type": "code",
   "execution_count": 26,
   "metadata": {},
   "outputs": [],
   "source": [
    "CORPUS = list_mm + list_vf"
   ]
  },
  {
   "cell_type": "code",
   "execution_count": 27,
   "metadata": {
    "scrolled": true
   },
   "outputs": [
    {
     "data": {
      "text/plain": [
       "788"
      ]
     },
     "execution_count": 27,
     "metadata": {},
     "output_type": "execute_result"
    }
   ],
   "source": [
    "len(CORPUS)"
   ]
  },
  {
   "cell_type": "code",
   "execution_count": 28,
   "metadata": {},
   "outputs": [],
   "source": [
    "labels = [\"Modest Mouse\"] * len(list_mm) + [\"Violent Femmes\"] * len(list_vf)"
   ]
  },
  {
   "cell_type": "code",
   "execution_count": 29,
   "metadata": {},
   "outputs": [],
   "source": [
    "X = CORPUS\n",
    "y = labels"
   ]
  },
  {
   "cell_type": "code",
   "execution_count": 30,
   "metadata": {},
   "outputs": [],
   "source": [
    "# train-test-split: \n",
    "X_test, X_train, y_test, y_train = train_test_split(X, y, stratify=y, random_state=42)"
   ]
  },
  {
   "cell_type": "markdown",
   "metadata": {},
   "source": [
    "####  Feature Engineering: "
   ]
  },
  {
   "cell_type": "code",
   "execution_count": 31,
   "metadata": {},
   "outputs": [],
   "source": [
    "def clean_text(text):\n",
    "    \n",
    "    \"\"\"cleans up text with RegEx, replacing \"n'\" with \"ng\", \n",
    "    removing punctuation except \"'\", replaceing \"\\n\" with whitespace, lowercaseing, \n",
    "    removing double whitespace\"\"\"\n",
    "    \n",
    "    # replace \"n'\" with ng:\n",
    "    \n",
    "    text = re.sub(\"(\\w(n')\\s)\",\"ng\",text)        \n",
    "    \n",
    "    #remove punctuation:\n",
    "    text = re.sub(\"[^\\w\\s']\",\"\",text)\n",
    "    \n",
    "    # replace \"\\n\" by whitespace : \n",
    "    text = re.sub(\"\\\\n\", \" \", text)\n",
    "    \n",
    "   \n",
    "    # lowercase    \n",
    "    text = text.lower()\n",
    "    \n",
    "    #removing duble whitespaces:\n",
    "    text = re.sub(\"\\s+\",\" \", text)\n",
    "    \n",
    "    return text\n"
   ]
  },
  {
   "cell_type": "code",
   "execution_count": 32,
   "metadata": {},
   "outputs": [],
   "source": [
    "def clean_list(X_split):\n",
    "    \"\"\"applies clean_text function to every item in list (of songtexts)\"\"\"\n",
    "    \n",
    "    clean_list = []\n",
    "    for song in X_split:\n",
    "        clean_list.append(clean_text(song))\n",
    "    return clean_list"
   ]
  },
  {
   "cell_type": "code",
   "execution_count": 33,
   "metadata": {},
   "outputs": [],
   "source": [
    "checkout = clean_list(X_train)"
   ]
  },
  {
   "cell_type": "markdown",
   "metadata": {},
   "source": [
    "#### create pipeline"
   ]
  },
  {
   "cell_type": "code",
   "execution_count": 34,
   "metadata": {},
   "outputs": [],
   "source": [
    "clean_lr_pipe = Pipeline([\n",
    "    (\"cleaning_text\", FunctionTransformer(clean_list)),\n",
    "    (\"vectorize\", TfidfVectorizer(ngram_range=(1,1), smooth_idf=True, stop_words='english')),\n",
    "    (\"model\", LogisticRegression())\n",
    "    \n",
    "])"
   ]
  },
  {
   "cell_type": "markdown",
   "metadata": {},
   "source": [
    "####  X train fit and evaluation of model: "
   ]
  },
  {
   "cell_type": "code",
   "execution_count": 35,
   "metadata": {
    "scrolled": true
   },
   "outputs": [
    {
     "data": {
      "text/plain": [
       "Pipeline(steps=[('cleaning_text',\n",
       "                 FunctionTransformer(func=<function clean_list at 0x11cb5b0d0>)),\n",
       "                ('vectorize', TfidfVectorizer(stop_words='english')),\n",
       "                ('model', LogisticRegression())])"
      ]
     },
     "execution_count": 35,
     "metadata": {},
     "output_type": "execute_result"
    }
   ],
   "source": [
    "# fit pipeline on X_train: \n",
    "clean_lr_pipe.fit(X_train, y_train)"
   ]
  },
  {
   "cell_type": "code",
   "execution_count": 36,
   "metadata": {},
   "outputs": [],
   "source": [
    "# make predictions on X_train: \n",
    "y_pred_train = clean_lr_pipe.predict(X_train)"
   ]
  },
  {
   "cell_type": "markdown",
   "metadata": {},
   "source": [
    "#### evaluation: "
   ]
  },
  {
   "cell_type": "code",
   "execution_count": 37,
   "metadata": {
    "scrolled": true
   },
   "outputs": [
    {
     "name": "stdout",
     "output_type": "stream",
     "text": [
      "                precision    recall  f1-score   support\n",
      "\n",
      "  Modest Mouse       0.99      1.00      1.00       101\n",
      "Violent Femmes       1.00      0.99      0.99        96\n",
      "\n",
      "      accuracy                           0.99       197\n",
      "     macro avg       1.00      0.99      0.99       197\n",
      "  weighted avg       0.99      0.99      0.99       197\n",
      "\n"
     ]
    }
   ],
   "source": [
    "#classification report: \n",
    "print(classification_report(y_train,y_pred_train))"
   ]
  },
  {
   "cell_type": "code",
   "execution_count": 38,
   "metadata": {},
   "outputs": [
    {
     "data": {
      "text/plain": [
       "0.9949238578680203"
      ]
     },
     "execution_count": 38,
     "metadata": {},
     "output_type": "execute_result"
    }
   ],
   "source": [
    "# training score: \n",
    "clean_lr_pipe.score(X_train, y_train)"
   ]
  },
  {
   "cell_type": "code",
   "execution_count": 39,
   "metadata": {},
   "outputs": [
    {
     "data": {
      "text/plain": [
       "0.8255555555555555"
      ]
     },
     "execution_count": 39,
     "metadata": {},
     "output_type": "execute_result"
    }
   ],
   "source": [
    "# cross-validation: \n",
    "cross_val_score(clean_lr_pipe, X_train, y_train, cv=20).mean()"
   ]
  },
  {
   "cell_type": "code",
   "execution_count": 40,
   "metadata": {
    "scrolled": true
   },
   "outputs": [
    {
     "data": {
      "text/plain": [
       "<AxesSubplot:>"
      ]
     },
     "execution_count": 40,
     "metadata": {},
     "output_type": "execute_result"
    },
    {
     "data": {
      "image/png": "[encoded data removed]",
      "text/plain": [
       "<Figure size 432x288 with 2 Axes>"
      ]
     },
     "metadata": {
      "needs_background": "light"
     },
     "output_type": "display_data"
    }
   ],
   "source": [
    "# confusion matrix: \n",
    "sns.heatmap(confusion_matrix(y_train, y_pred_train), annot=True, fmt=\".0f\")"
   ]
  },
  {
   "cell_type": "markdown",
   "metadata": {},
   "source": [
    "####  predictions on X_test and further evaluations: "
   ]
  },
  {
   "cell_type": "code",
   "execution_count": 41,
   "metadata": {},
   "outputs": [],
   "source": [
    "# predict on  X_test: \n",
    "y_pred_test = clean_lr_pipe.predict(X_test)"
   ]
  },
  {
   "cell_type": "code",
   "execution_count": 42,
   "metadata": {
    "scrolled": true
   },
   "outputs": [
    {
     "name": "stdout",
     "output_type": "stream",
     "text": [
      "                precision    recall  f1-score   support\n",
      "\n",
      "  Modest Mouse       0.80      0.97      0.88       301\n",
      "Violent Femmes       0.96      0.75      0.84       290\n",
      "\n",
      "      accuracy                           0.86       591\n",
      "     macro avg       0.88      0.86      0.86       591\n",
      "  weighted avg       0.88      0.86      0.86       591\n",
      "\n"
     ]
    }
   ],
   "source": [
    "print(classification_report(y_test,y_pred_test))"
   ]
  },
  {
   "cell_type": "code",
   "execution_count": 43,
   "metadata": {},
   "outputs": [
    {
     "data": {
      "text/plain": [
       "0.8646362098138748"
      ]
     },
     "execution_count": 43,
     "metadata": {},
     "output_type": "execute_result"
    }
   ],
   "source": [
    "# test score: \n",
    "clean_lr_pipe.score(X_test, y_test)"
   ]
  },
  {
   "cell_type": "code",
   "execution_count": 44,
   "metadata": {},
   "outputs": [
    {
     "data": {
      "text/plain": [
       "0.8255555555555555"
      ]
     },
     "execution_count": 44,
     "metadata": {},
     "output_type": "execute_result"
    }
   ],
   "source": [
    "# cross-validation: \n",
    "cross_val_score(clean_lr_pipe, X_train, y_train, cv=20).mean()"
   ]
  },
  {
   "cell_type": "code",
   "execution_count": 45,
   "metadata": {},
   "outputs": [
    {
     "data": {
      "text/plain": [
       "<AxesSubplot:>"
      ]
     },
     "execution_count": 45,
     "metadata": {},
     "output_type": "execute_result"
    },
    {
     "data": {
      "image/png": "[encoded data removed]",
      "text/plain": [
       "<Figure size 432x288 with 2 Axes>"
      ]
     },
     "metadata": {
      "needs_background": "light"
     },
     "output_type": "display_data"
    }
   ],
   "source": [
    "# confusion matrix:\n",
    "sns.heatmap(confusion_matrix(y_test, y_pred_test), annot=True, fmt=\".0f\")"
   ]
  },
  {
   "cell_type": "markdown",
   "metadata": {},
   "source": [
    "#### pipeline predictions on guessed band lyrics: "
   ]
  },
  {
   "cell_type": "code",
   "execution_count": 46,
   "metadata": {},
   "outputs": [
    {
     "data": {
      "text/plain": [
       "array([[0.67100283, 0.32899717]])"
      ]
     },
     "execution_count": 46,
     "metadata": {},
     "output_type": "execute_result"
    }
   ],
   "source": [
    "clean_lr_pipe.predict_proba([\"float on\"]) "
   ]
  },
  {
   "cell_type": "code",
   "execution_count": 47,
   "metadata": {},
   "outputs": [
    {
     "data": {
      "text/plain": [
       "array([[0.4489732, 0.5510268]])"
      ]
     },
     "execution_count": 47,
     "metadata": {},
     "output_type": "execute_result"
    }
   ],
   "source": [
    "clean_lr_pipe.predict_proba([\"getting together with you\"])"
   ]
  },
  {
   "cell_type": "code",
   "execution_count": 48,
   "metadata": {},
   "outputs": [
    {
     "data": {
      "text/plain": [
       "array([[0.46686633, 0.53313367]])"
      ]
     },
     "execution_count": 48,
     "metadata": {},
     "output_type": "execute_result"
    }
   ],
   "source": [
    "clean_lr_pipe.predict_proba([\"like a blister in the sun\"])"
   ]
  },
  {
   "cell_type": "code",
   "execution_count": 49,
   "metadata": {},
   "outputs": [
    {
     "data": {
      "text/plain": [
       "array([[0.45007347, 0.54992653]])"
      ]
     },
     "execution_count": 49,
     "metadata": {},
     "output_type": "execute_result"
    }
   ],
   "source": [
    "clean_lr_pipe.predict_proba([\"nightmares\"])"
   ]
  },
  {
   "cell_type": "code",
   "execution_count": null,
   "metadata": {},
   "outputs": [],
   "source": []
  }
 ],
 "metadata": {
  "kernelspec": {
   "display_name": "Python 3",
   "language": "python",
   "name": "python3"
  },
  "language_info": {
   "codemirror_mode": {
    "name": "ipython",
    "version": 3
   },
   "file_extension": ".py",
   "mimetype": "text/x-python",
   "name": "python",
   "nbconvert_exporter": "python",
   "pygments_lexer": "ipython3",
   "version": "3.8.5"
  }
 },
 "nbformat": 4,
 "nbformat_minor": 4
}
